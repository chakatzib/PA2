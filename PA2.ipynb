{
 "cells": [
  {
   "cell_type": "markdown",
   "id": "fb473d65",
   "metadata": {},
   "source": [
    "# PROGRAMMING ASSIGNMENT 2\n",
    "## Joey Guthrie, Version 1, CS-150-01"
   ]
  },
  {
   "cell_type": "code",
   "execution_count": 16,
   "id": "46853c6f",
   "metadata": {},
   "outputs": [
    {
     "name": "stdout",
     "output_type": "stream",
     "text": [
      "Enter a floating point number value:33.7\n",
      "Enter an integer number value:50\n"
     ]
    }
   ],
   "source": [
    "flNum = float(input(\"Enter a floating point number value:\"))\n",
    "intNum = int(input(\"Enter an integer number value:\"))"
   ]
  },
  {
   "cell_type": "code",
   "execution_count": 17,
   "id": "766fab27",
   "metadata": {},
   "outputs": [
    {
     "name": "stdout",
     "output_type": "stream",
     "text": [
      "The sum is : 83.7\n"
     ]
    }
   ],
   "source": [
    "print(\"The sum is :\", (intNum + flNum))"
   ]
  },
  {
   "cell_type": "code",
   "execution_count": 18,
   "id": "1847eafb",
   "metadata": {},
   "outputs": [
    {
     "name": "stdout",
     "output_type": "stream",
     "text": [
      "The difference is : 16.299999999999997\n"
     ]
    }
   ],
   "source": [
    "print(\"The difference is :\",(intNum - flNum))"
   ]
  },
  {
   "cell_type": "code",
   "execution_count": 19,
   "id": "51ae9bf4",
   "metadata": {},
   "outputs": [
    {
     "name": "stdout",
     "output_type": "stream",
     "text": [
      "The product is : 1685.0000000000002\n"
     ]
    }
   ],
   "source": [
    "print(\"The product is :\",(intNum * flNum))"
   ]
  },
  {
   "cell_type": "code",
   "execution_count": 20,
   "id": "279823a9",
   "metadata": {},
   "outputs": [
    {
     "name": "stdout",
     "output_type": "stream",
     "text": [
      "The quotient is: 1.4836795252225519\n"
     ]
    }
   ],
   "source": [
    "print(\"The quotient is:\",(intNum / flNum))"
   ]
  },
  {
   "cell_type": "code",
   "execution_count": null,
   "id": "f60862b3",
   "metadata": {},
   "outputs": [],
   "source": []
  }
 ],
 "metadata": {
  "kernelspec": {
   "display_name": "Python 3 (ipykernel)",
   "language": "python",
   "name": "python3"
  },
  "language_info": {
   "codemirror_mode": {
    "name": "ipython",
    "version": 3
   },
   "file_extension": ".py",
   "mimetype": "text/x-python",
   "name": "python",
   "nbconvert_exporter": "python",
   "pygments_lexer": "ipython3",
   "version": "3.9.13"
  }
 },
 "nbformat": 4,
 "nbformat_minor": 5
}
